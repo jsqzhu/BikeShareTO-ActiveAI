{
  "nbformat": 4,
  "nbformat_minor": 0,
  "metadata": {
    "colab": {
      "name": "data_modelling_goce.ipynb",
      "provenance": [],
      "collapsed_sections": [
        "xu-q5xkmW10B",
        "5EWKqwX5ZHQE",
        "wECOvMt-VKx6",
        "OAsj5fLvWz1H",
        "HIYWr1D4X9MA",
        "EZVQsK8_Hjbt"
      ]
    },
    "kernelspec": {
      "name": "python3",
      "display_name": "Python 3"
    },
    "language_info": {
      "name": "python"
    }
  },
  "cells": [
    {
      "cell_type": "code",
      "source": [
        "from google.colab import drive  \n",
        "drive.mount('/content/drive')  "
      ],
      "metadata": {
        "id": "HupsphFzFLva",
        "outputId": "cfbd786c-f311-452b-9fb9-1d1ab85c828c",
        "colab": {
          "base_uri": "https://localhost:8080/"
        }
      },
      "execution_count": 1,
      "outputs": [
        {
          "output_type": "stream",
          "name": "stdout",
          "text": [
            "Mounted at /content/drive\n"
          ]
        }
      ]
    },
    {
      "cell_type": "code",
      "execution_count": null,
      "metadata": {
        "id": "hBnDs4LOVFhd"
      },
      "outputs": [],
      "source": [
        "# File saved on google drive\n",
        "from google.colab import drive\n",
        "drive.mount('/content/drive')"
      ]
    },
    {
      "cell_type": "code",
      "source": [
        "import os\n",
        "import io\n",
        "#os.chdir(\"/content/drive/MyDrive/Colab Notebooks/Data/\")\n",
        "os.chdir(\"/content/drive/MyDrive/\")"
      ],
      "metadata": {
        "id": "ciVHgpVGVyjQ"
      },
      "execution_count": null,
      "outputs": []
    },
    {
      "cell_type": "markdown",
      "source": [
        "# Load Packages"
      ],
      "metadata": {
        "id": "xu-q5xkmW10B"
      }
    },
    {
      "cell_type": "code",
      "source": [
        "import numpy as np\n",
        "import pandas as pd\n",
        "\n",
        "# To make this notebook's output stable across runs\n",
        "np.random.seed(123)\n",
        "\n",
        "# To plot pretty figures\n",
        "%matplotlib inline\n",
        "import matplotlib\n",
        "import matplotlib.pyplot as plt\n",
        "import seaborn as sns\n",
        "plt.rcParams['axes.labelsize'] = 14\n",
        "plt.rcParams['xtick.labelsize'] = 12\n",
        "plt.rcParams['ytick.labelsize'] = 12\n",
        "\n",
        "from sklearn.preprocessing import StandardScaler, OneHotEncoder\n",
        "from sklearn.linear_model import LogisticRegression\n",
        "from sklearn.ensemble import RandomForestRegressor, AdaBoostRegressor, GradientBoostingRegressor, ExtraTreesRegressor\n",
        "from sklearn.tree import DecisionTreeRegressor\n",
        "from sklearn.neighbors import KNeighborsRegressor\n",
        "from sklearn.ensemble import RandomForestClassifier, AdaBoostClassifier, GradientBoostingClassifier, ExtraTreesClassifier\n",
        "from sklearn.tree import DecisionTreeClassifier\n",
        "from sklearn.neighbors import KNeighborsClassifier\n",
        "from sklearn.model_selection import cross_val_score, cross_val_predict, GridSearchCV, train_test_split, RandomizedSearchCV\n",
        "from sklearn.metrics import mean_squared_error, roc_auc_score, roc_curve, plot_roc_curve, confusion_matrix, accuracy_score\n",
        "\n",
        "from sklearn.pipeline import Pipeline\n",
        "from scipy.stats import reciprocal, uniform, randint"
      ],
      "metadata": {
        "id": "ImkhIt8NWtVn"
      },
      "execution_count": null,
      "outputs": []
    },
    {
      "cell_type": "markdown",
      "source": [
        "# Functions"
      ],
      "metadata": {
        "id": "5EWKqwX5ZHQE"
      }
    },
    {
      "cell_type": "code",
      "source": [
        "# numerical correlation\n",
        "def plot_pearson_correlation(df, cols, low_thres, high_thres):\n",
        "    # customized\n",
        "    \n",
        "    corr_df = df[cols].corr()\n",
        "    # Get only half portion of corr_df to avoid df, so create mask    \n",
        "    mask = np.triu(np.ones_like(corr_df), k=1)\n",
        "    \n",
        "    # plot a heatmap of the values\n",
        "    plt.figure(figsize=(10,10))\n",
        "    ax = sns.heatmap(corr_df, vmin=-1, vmax=1, cbar=False,\n",
        "                     cmap='coolwarm', mask=mask, annot=True)\n",
        "    \n",
        "    # format the text in the plot to make it easier to read\n",
        "    for text in ax.texts:\n",
        "        t = float(text.get_text())\n",
        "        if low_thres < t < high_thres:\n",
        "            text.set_text('')\n",
        "        else:\n",
        "            text.set_text(round(t, 2))\n",
        "        text.set_fontsize('x-large')\n",
        "    plt.xticks( size='x-large')\n",
        "    plt.yticks(rotation=0, size='x-large')\n",
        "    # Save fig uncomment first\n",
        "    # plt.savefig(\"Heatmap DF\")\n",
        "    plt.show()\n",
        "    return corr_df"
      ],
      "metadata": {
        "id": "zvjTpiqJZGXU"
      },
      "execution_count": null,
      "outputs": []
    },
    {
      "cell_type": "code",
      "source": [
        "def get_top_features(model, n):\n",
        "  feature_names = list(num_var) + list(cat_one_hot)\n",
        "  feature_imp = model.feature_importances_\n",
        "  zipped = zip (feature_names, feature_imp)\n",
        "  sorted_feature = sorted(zipped, key = lambda t: t[1], reverse=True)\n",
        "  return sorted_feature[:n]"
      ],
      "metadata": {
        "id": "6cUzenUGk6no"
      },
      "execution_count": null,
      "outputs": []
    },
    {
      "cell_type": "code",
      "source": [
        "station = pd.read_csv(\"Project/data/Raw_Data/station_info_w_POI.csv\")"
      ],
      "metadata": {
        "id": "7t-j48EyuenJ"
      },
      "execution_count": null,
      "outputs": []
    },
    {
      "cell_type": "code",
      "source": [
        "station.head()"
      ],
      "metadata": {
        "id": "wPN9mEMxu8Oe"
      },
      "execution_count": null,
      "outputs": []
    },
    {
      "cell_type": "markdown",
      "source": [
        "# Load and Prepare Data for Training"
      ],
      "metadata": {
        "id": "WPck4u_vW7nE"
      }
    },
    {
      "cell_type": "code",
      "source": [
        "data_path = \"Project/data/final_trip_feature_data.csv\"\n",
        "#df = pd.read_csv('final_trip_data_with_distance_duration.csv', index_col=[0], parse_dates=['Start Time'], date_parser=dateparse)\n",
        "df = pd.read_csv(data_path)"
      ],
      "metadata": {
        "id": "WvH0c1RUV4BC"
      },
      "execution_count": null,
      "outputs": []
    },
    {
      "cell_type": "code",
      "source": [
        "df.head()"
      ],
      "metadata": {
        "id": "QIz4pKSyXFKg"
      },
      "execution_count": null,
      "outputs": []
    },
    {
      "cell_type": "code",
      "source": [
        "df.columns"
      ],
      "metadata": {
        "id": "L1jVbeYBZRe6"
      },
      "execution_count": null,
      "outputs": []
    },
    {
      "cell_type": "code",
      "source": [
        "plot_pearson_correlation(df, df.columns, -0.25, 0.25)"
      ],
      "metadata": {
        "id": "FrVSH8DJYixM"
      },
      "execution_count": null,
      "outputs": []
    },
    {
      "cell_type": "code",
      "source": [
        "# df.loc[(df['Net Demand']<=-80)]"
      ],
      "metadata": {
        "id": "AWzEUJTctUVj"
      },
      "execution_count": null,
      "outputs": []
    },
    {
      "cell_type": "code",
      "source": [
        "# df[['Net Demand']].describe()"
      ],
      "metadata": {
        "id": "O5EWWN2tuXYh"
      },
      "execution_count": null,
      "outputs": []
    },
    {
      "cell_type": "code",
      "source": [
        "# df['Net Demand'].quantile(0.9)"
      ],
      "metadata": {
        "id": "b7vMvAXtunY-"
      },
      "execution_count": null,
      "outputs": []
    },
    {
      "cell_type": "code",
      "source": [
        "# plt.figure(figsize=(20,20))\n",
        "# df[['Net Demand']].boxplot()"
      ],
      "metadata": {
        "id": "8wp_G3nDs8Tj"
      },
      "execution_count": null,
      "outputs": []
    },
    {
      "cell_type": "code",
      "source": [
        "cols_to_drop = ['Start Station Id', 'Year',  'Day of Month'] #'Month',\n",
        "target = ['Positive Net Demand']"
      ],
      "metadata": {
        "id": "NY_9Vi_1aqLO"
      },
      "execution_count": null,
      "outputs": []
    },
    {
      "cell_type": "code",
      "source": [
        "target = ['Positive Net Demand']"
      ],
      "metadata": {
        "id": "HpMVKMIucaPY"
      },
      "execution_count": null,
      "outputs": []
    },
    {
      "cell_type": "code",
      "source": [
        "df_train, df_test = train_test_split(df, test_size=0.3, random_state=42)"
      ],
      "metadata": {
        "id": "ycARq2itcIE1"
      },
      "execution_count": null,
      "outputs": []
    },
    {
      "cell_type": "markdown",
      "source": [
        "# Modeling"
      ],
      "metadata": {
        "id": "XNiB3ZLGghdj"
      }
    },
    {
      "cell_type": "code",
      "source": [
        ""
      ],
      "metadata": {
        "id": "wmVEWZUWH84n"
      },
      "execution_count": null,
      "outputs": []
    },
    {
      "cell_type": "code",
      "source": [
        "X_train = df_train[[col for col in df.columns if col not in cols_to_drop+target]]\n",
        "y_train = df_train[target]"
      ],
      "metadata": {
        "id": "T8rhh_ZWdknG"
      },
      "execution_count": null,
      "outputs": []
    },
    {
      "cell_type": "code",
      "source": [
        "X_train.info()"
      ],
      "metadata": {
        "id": "TXJP0AEqh3S_"
      },
      "execution_count": null,
      "outputs": []
    },
    {
      "cell_type": "code",
      "source": [
        "print(X_train.shape, y_train.shape)"
      ],
      "metadata": {
        "id": "ks8KxjwOd-Tt"
      },
      "execution_count": null,
      "outputs": []
    },
    {
      "cell_type": "code",
      "source": [
        "cat_var = X_train.select_dtypes(include=['object']).columns"
      ],
      "metadata": {
        "id": "fCcnc2EuZp91"
      },
      "execution_count": null,
      "outputs": []
    },
    {
      "cell_type": "code",
      "source": [
        "num_var = [col for col in X_train.columns if col not in cat_var]"
      ],
      "metadata": {
        "id": "2ZqF3jiWZOXI"
      },
      "execution_count": null,
      "outputs": []
    },
    {
      "cell_type": "code",
      "source": [
        "from sklearn.compose import ColumnTransformer\n",
        "full_pipeline=ColumnTransformer([(\"Num\", StandardScaler(), num_var),\n",
        "                                 (\"Cat\", OneHotEncoder(), cat_var),                              \n",
        "                                 ])"
      ],
      "metadata": {
        "id": "xbMGRVTChhDL"
      },
      "execution_count": null,
      "outputs": []
    },
    {
      "cell_type": "code",
      "source": [
        "X_train_prepared=full_pipeline.fit_transform(X_train)"
      ],
      "metadata": {
        "id": "aIqIKrrEirDy"
      },
      "execution_count": null,
      "outputs": []
    },
    {
      "cell_type": "code",
      "source": [
        "cat_one_hot = full_pipeline.transformers_[1][1].get_feature_names()"
      ],
      "metadata": {
        "id": "5qEQiBwNitkF"
      },
      "execution_count": null,
      "outputs": []
    },
    {
      "cell_type": "code",
      "source": [
        "len(cat_one_hot)"
      ],
      "metadata": {
        "id": "wnbRYBe9kaFv"
      },
      "execution_count": null,
      "outputs": []
    },
    {
      "cell_type": "code",
      "source": [
        "X_train_prepared.shape"
      ],
      "metadata": {
        "id": "vXPH2My_keIf"
      },
      "execution_count": null,
      "outputs": []
    },
    {
      "cell_type": "code",
      "source": [
        "import scipy\n",
        "scipy.sparse.issparse(X_train_prepared)"
      ],
      "metadata": {
        "id": "rkdMPBfLkhWJ"
      },
      "execution_count": null,
      "outputs": []
    },
    {
      "cell_type": "code",
      "source": [
        "X_train_prepared=X_train_prepared.toarray()"
      ],
      "metadata": {
        "id": "X0kKns3nkjj9"
      },
      "execution_count": null,
      "outputs": []
    },
    {
      "cell_type": "markdown",
      "source": [
        "## KNN "
      ],
      "metadata": {
        "id": "qCTN7IRtEEO6"
      }
    },
    {
      "cell_type": "code",
      "source": [
        "KN_clf = KNeighborsClassifier(n_neighbors= 10)\n",
        "\n",
        "#KN_param_grid= [{'n_neighbors':[10,50,100]}]\n",
        "KN_clf.fit(X_train_prepared, np.ravel(y_train))"
      ],
      "metadata": {
        "id": "37se5TdzhIAj",
        "colab": {
          "base_uri": "https://localhost:8080/"
        },
        "outputId": "69518ecc-314b-4ab3-9ba5-0c9f2300467b"
      },
      "execution_count": null,
      "outputs": [
        {
          "output_type": "execute_result",
          "data": {
            "text/plain": [
              "KNeighborsClassifier(n_neighbors=10)"
            ]
          },
          "metadata": {},
          "execution_count": 31
        }
      ]
    },
    {
      "cell_type": "code",
      "source": [
        "y_pred = KN_clf.predict(X_train_prepared)"
      ],
      "metadata": {
        "id": "xB4ndPQjJPN8"
      },
      "execution_count": null,
      "outputs": []
    },
    {
      "cell_type": "code",
      "source": [
        "accuracy_score(y_train, y_pred)"
      ],
      "metadata": {
        "id": "txdRyuOSKdRc"
      },
      "execution_count": null,
      "outputs": []
    },
    {
      "cell_type": "code",
      "source": [
        "print(\"model score: %.3f\" % KN_clf.score(X_train_prepared, y_train))"
      ],
      "metadata": {
        "id": "I0zbUG9gJ-xv"
      },
      "execution_count": null,
      "outputs": []
    },
    {
      "cell_type": "markdown",
      "metadata": {
        "id": "C7gGHnRNhIpG"
      },
      "source": [
        "## Decision Tree"
      ]
    },
    {
      "cell_type": "code",
      "source": [
        ""
      ],
      "metadata": {
        "id": "pC46tUyBJ9o4"
      },
      "execution_count": null,
      "outputs": []
    },
    {
      "cell_type": "code",
      "source": [
        "# benchmark model using default hyperparameters\n",
        "tree_clf = DecisionTreeClassifier(random_state=42)\n",
        "#y_train_pred = cross_val_predict(tree_rg, X_train_prepared, y_train, cv=4)\n",
        "scores = cross_val_score(tree_clf, X_train_prepared, y_train, cv=4, scoring = 'roc_auc')"
      ],
      "metadata": {
        "id": "jzxFn9iuhIpH"
      },
      "execution_count": null,
      "outputs": []
    },
    {
      "cell_type": "code",
      "source": [
        "scores.mean()"
      ],
      "metadata": {
        "colab": {
          "base_uri": "https://localhost:8080/"
        },
        "outputId": "741a26d8-ca4c-4410-e5fc-c7b2031d60bb",
        "id": "KAOE2fbwhIpI"
      },
      "execution_count": null,
      "outputs": [
        {
          "output_type": "execute_result",
          "data": {
            "text/plain": [
              "0.5653185541183208"
            ]
          },
          "metadata": {},
          "execution_count": 36
        }
      ]
    },
    {
      "cell_type": "markdown",
      "metadata": {
        "id": "eeJnj3I0hIpM"
      },
      "source": [
        "#### Decision Tree Tuning - Individual Params"
      ]
    },
    {
      "cell_type": "code",
      "execution_count": null,
      "metadata": {
        "id": "8R9mZN71hIpM"
      },
      "outputs": [],
      "source": [
        "# tuning hyperparameters\n",
        "param_1 = {'criterion': ['gini','entropy']}\n",
        "param_2 = {'max_depth': [None,500,100,50,10]}\n",
        "param_3 = {'min_samples_split': [2,100,500,1000]}\n",
        "param_4 = {'min_samples_leaf': [1,10,50,100,500]}\n",
        "param_5 = {'max_leaf_nodes': [None,100,50,10,5,2]}        "
      ]
    },
    {
      "cell_type": "code",
      "execution_count": null,
      "metadata": {
        "id": "n5G6IBSYhIpN"
      },
      "outputs": [],
      "source": [
        "tree_clf_1 = GridSearchCV(tree_clf, param_1, cv=4, scoring='roc_auc')\n",
        "tree_clf_1.fit(X_train_prepared, y_train)\n",
        "score_1 = tree_clf_1.cv_results_['mean_test_score']"
      ]
    },
    {
      "cell_type": "code",
      "execution_count": null,
      "metadata": {
        "colab": {
          "base_uri": "https://localhost:8080/"
        },
        "outputId": "3154018d-2540-4a97-fa94-17f8a6baddbc",
        "id": "rBB4qyi0hIpN"
      },
      "outputs": [
        {
          "output_type": "stream",
          "name": "stdout",
          "text": [
            "{'criterion': ['gini', 'entropy']}\n",
            "[0.56531855 0.56585914]\n"
          ]
        }
      ],
      "source": [
        "print(param_1)\n",
        "print(score_1)"
      ]
    },
    {
      "cell_type": "code",
      "execution_count": null,
      "metadata": {
        "id": "yK701_NfhIpO"
      },
      "outputs": [],
      "source": [
        "tree_clf_2 = GridSearchCV(tree_clf, param_2, cv=4, scoring='roc_auc')\n",
        "tree_clf_2.fit(X_train_prepared, y_train)\n",
        "score_2 = tree_clf_2.cv_results_['mean_test_score']"
      ]
    },
    {
      "cell_type": "code",
      "execution_count": null,
      "metadata": {
        "colab": {
          "base_uri": "https://localhost:8080/"
        },
        "outputId": "1ddb9c5c-9784-4884-ffda-1107843a97aa",
        "id": "jNM3s1jUhIpP"
      },
      "outputs": [
        {
          "output_type": "stream",
          "name": "stdout",
          "text": [
            "{'max_depth': [None, 500, 100, 50, 10]}\n",
            "[0.56531855 0.56531855 0.56531855 0.56665279 0.63413672]\n"
          ]
        }
      ],
      "source": [
        "print(param_2)\n",
        "print(score_2)"
      ]
    },
    {
      "cell_type": "code",
      "execution_count": null,
      "metadata": {
        "id": "VSFHRJMhhIpP"
      },
      "outputs": [],
      "source": [
        "tree_clf_3 = GridSearchCV(tree_clf, param_3, cv=4, scoring='roc_auc')\n",
        "tree_clf_3.fit(X_train_prepared, y_train)\n",
        "score_3 = tree_clf_3.cv_results_['mean_test_score']"
      ]
    },
    {
      "cell_type": "code",
      "execution_count": null,
      "metadata": {
        "colab": {
          "base_uri": "https://localhost:8080/"
        },
        "outputId": "574b05af-7105-4220-fc8d-0d246b4aed62",
        "id": "5pE5F5xohIpQ"
      },
      "outputs": [
        {
          "output_type": "stream",
          "name": "stdout",
          "text": [
            "{'min_samples_split': [2, 100, 500, 1000]}\n",
            "[0.56531855 0.65367069 0.67836148 0.67806547]\n"
          ]
        }
      ],
      "source": [
        "print(param_3)\n",
        "print(score_3)"
      ]
    },
    {
      "cell_type": "code",
      "execution_count": null,
      "metadata": {
        "id": "R39phMvNhIpR"
      },
      "outputs": [],
      "source": [
        "tree_clf_4 = GridSearchCV(tree_clf, param_4, cv=4, scoring='roc_auc')\n",
        "tree_clf_4.fit(X_train_prepared, y_train)\n",
        "score_4 = tree_clf_4.cv_results_['mean_test_score']"
      ]
    },
    {
      "cell_type": "code",
      "execution_count": null,
      "metadata": {
        "colab": {
          "base_uri": "https://localhost:8080/"
        },
        "outputId": "d6bf1411-243e-4658-a835-b7ef6f646d47",
        "id": "gpJY5dDAhIpS"
      },
      "outputs": [
        {
          "output_type": "stream",
          "name": "stdout",
          "text": [
            "{'min_samples_leaf': [1, 10, 50, 100, 500]}\n",
            "[0.56531855 0.62950871 0.66978317 0.67799734 0.66852537]\n"
          ]
        }
      ],
      "source": [
        "print(param_4)\n",
        "print(score_4)"
      ]
    },
    {
      "cell_type": "code",
      "execution_count": null,
      "metadata": {
        "id": "2jdszZ5uhIpT"
      },
      "outputs": [],
      "source": [
        "tree_clf_5 = GridSearchCV(tree_clf, param_5, cv=4, scoring='roc_auc')\n",
        "tree_clf_5.fit(X_train_prepared, y_train)\n",
        "score_5 = tree_clf_5.cv_results_['mean_test_score']"
      ]
    },
    {
      "cell_type": "code",
      "execution_count": null,
      "metadata": {
        "colab": {
          "base_uri": "https://localhost:8080/"
        },
        "outputId": "52f7f6a7-9801-453f-82ee-f6939e8c4e9c",
        "id": "XXrBrE7ChIpT"
      },
      "outputs": [
        {
          "output_type": "stream",
          "name": "stdout",
          "text": [
            "{'max_leaf_nodes': [None, 100, 50, 10, 5, 2]}\n",
            "[0.56531855 0.63188022 0.61708118 0.57450919 0.56727609 0.52082953]\n"
          ]
        }
      ],
      "source": [
        "print(param_5)\n",
        "print(score_5)"
      ]
    },
    {
      "cell_type": "markdown",
      "metadata": {
        "id": "xvdzLeX8hIpU"
      },
      "source": [
        "#### Decision Tree Tuning - All parameters"
      ]
    },
    {
      "cell_type": "code",
      "execution_count": null,
      "metadata": {
        "id": "D2Dw4Nl1hIpV"
      },
      "outputs": [],
      "source": [
        "hyperparamters_2 = {'criterion': ['gini','entropy'],\n",
        "                     'max_depth': randint(1,50),\n",
        "                    'min_samples_split': randint(100,1000),\n",
        "                    'min_samples_leaf': randint(50,500),\n",
        "                    'max_leaf_nodes': randint(50,500)}"
      ]
    },
    {
      "cell_type": "code",
      "execution_count": null,
      "metadata": {
        "colab": {
          "base_uri": "https://localhost:8080/"
        },
        "outputId": "adf71273-0759-47ea-cda4-6cc58a3a4dc2",
        "id": "1nQnnhpIhIpW"
      },
      "outputs": [
        {
          "output_type": "execute_result",
          "data": {
            "text/plain": [
              "RandomizedSearchCV(cv=4, estimator=DecisionTreeClassifier(random_state=42),\n",
              "                   param_distributions={'criterion': ['gini', 'entropy'],\n",
              "                                        'max_depth': <scipy.stats._distn_infrastructure.rv_frozen object at 0x7f3b1d10ee50>,\n",
              "                                        'max_leaf_nodes': <scipy.stats._distn_infrastructure.rv_frozen object at 0x7f3b167d9450>,\n",
              "                                        'min_samples_leaf': <scipy.stats._distn_infrastructure.rv_frozen object at 0x7f3b167d98d0>,\n",
              "                                        'min_samples_split': <scipy.stats._distn_infrastructure.rv_frozen object at 0x7f3b1697e890>},\n",
              "                   scoring='roc_auc')"
            ]
          },
          "metadata": {},
          "execution_count": 52
        }
      ],
      "source": [
        "tree_clf_rand = RandomizedSearchCV(tree_clf, hyperparamters_2, cv=4, scoring='roc_auc')\n",
        "tree_clf_rand.fit(X_train_prepared, y_train)"
      ]
    },
    {
      "cell_type": "code",
      "execution_count": null,
      "metadata": {
        "colab": {
          "base_uri": "https://localhost:8080/"
        },
        "outputId": "428fb4e1-b077-4f3a-8209-f92463c8d5d2",
        "id": "FQzNUCOchIpX"
      },
      "outputs": [
        {
          "output_type": "stream",
          "name": "stdout",
          "text": [
            "{'criterion': 'gini', 'max_depth': 46, 'max_leaf_nodes': 432, 'min_samples_leaf': 372, 'min_samples_split': 198}\n",
            "0.6608666122654997\n"
          ]
        }
      ],
      "source": [
        "print(tree_clf_rand.best_params_)\n",
        "print(tree_clf_rand.best_score_)"
      ]
    },
    {
      "cell_type": "code",
      "source": [
        "final_tree_clf = tree_clf_rand.best_estimator_"
      ],
      "metadata": {
        "id": "Kw8F2stOhIpX"
      },
      "execution_count": null,
      "outputs": []
    },
    {
      "cell_type": "code",
      "source": [
        "get_top_features(final_tree_clf,40)"
      ],
      "metadata": {
        "colab": {
          "base_uri": "https://localhost:8080/"
        },
        "outputId": "70bf5b0b-c174-49ff-929f-d36480e2639b",
        "id": "CZOWRmeIhIpY"
      },
      "execution_count": null,
      "outputs": [
        {
          "output_type": "execute_result",
          "data": {
            "text/plain": [
              "[('POI_distance', 0.32843471763596255),\n",
              " ('capacity', 0.07844351187810701),\n",
              " ('x0_10AM-2PM', 0.06395060549175349),\n",
              " (\"x1_Queen's Park\", 0.06240643099759838),\n",
              " ('x0_6AM-10AM', 0.035661942606273235),\n",
              " ('x1_King', 0.034892834722501175),\n",
              " ('x1_St Patrick', 0.03489025487223086),\n",
              " ('Is_Weekend', 0.02934168684584401),\n",
              " ('x1_Dundas', 0.029169843044116912),\n",
              " ('x1_St Andrew', 0.02750305571796595),\n",
              " ('x1_Queen', 0.02338513629720263),\n",
              " ('x1_Osgoode', 0.022914425264749582),\n",
              " ('x1_Union Station', 0.02242465349807036),\n",
              " ('x0_2PM-6PM', 0.01952159383615947),\n",
              " ('x0_2AM-6AM', 0.016365613879997184),\n",
              " ('x1_Wellesley', 0.015250336644851713),\n",
              " ('x1_Museum Station', 0.015190404147962772),\n",
              " ('x1_Sherbourne', 0.014961305167813434),\n",
              " ('x1_Bay', 0.011986140533208607),\n",
              " ('x1_Exhibition GO', 0.009987969713816795),\n",
              " ('x1_Dundas West', 0.007379716589652548),\n",
              " ('x1_St. Clair West', 0.007316795912558427),\n",
              " ('x1_Lawrence', 0.007094135850992359),\n",
              " ('x1_Jane', 0.006680498051827914),\n",
              " ('x1_College Station', 0.006676083841694849),\n",
              " ('Month', 0.006163767718707996),\n",
              " ('x1_Dufferin', 0.005489345195081139),\n",
              " ('x1_Rosedale', 0.005437673600505104),\n",
              " ('x1_Ossington', 0.004569538837080865),\n",
              " ('x1_Lansdowne', 0.004433208563302878),\n",
              " ('x1_Broadview', 0.004160558462935854),\n",
              " ('x1_High Park', 0.003470913791646974),\n",
              " ('x1_Dupont', 0.0032570883353786537),\n",
              " ('x1_Eglinton', 0.0025192736691326914),\n",
              " ('x0_10PM-2AM', 0.002492848523670766),\n",
              " ('x1_Coxwell', 0.002417084961088089),\n",
              " ('x1_Keele', 0.002293594228881948),\n",
              " ('x1_Spadina', 0.0021463885708138293),\n",
              " ('Temp (°C)', 0.00197268974097951),\n",
              " ('x1_Eglinton West', 0.0018928901038992023)]"
            ]
          },
          "metadata": {},
          "execution_count": 55
        }
      ]
    },
    {
      "cell_type": "markdown",
      "source": [
        "### Testing with final decision tree model"
      ],
      "metadata": {
        "id": "lfM-dwwehIpY"
      }
    },
    {
      "cell_type": "code",
      "source": [
        "X_test = df_test[[col for col in df.columns if col not in cols_to_drop+target]]\n",
        "y_test = df_test[target]"
      ],
      "metadata": {
        "id": "2ui0aZbphIpZ"
      },
      "execution_count": null,
      "outputs": []
    },
    {
      "cell_type": "code",
      "execution_count": null,
      "metadata": {
        "colab": {
          "base_uri": "https://localhost:8080/"
        },
        "id": "CiMZ1Hx-hIpZ",
        "outputId": "186d3dc4-b07c-4fea-f28b-c919a7a809a2"
      },
      "outputs": [
        {
          "output_type": "execute_result",
          "data": {
            "text/plain": [
              "0.6619251848050339"
            ]
          },
          "metadata": {},
          "execution_count": 59
        }
      ],
      "source": [
        "\n",
        "X_test_prepared=full_pipeline.transform(X_test)\n",
        "y_test_pred = final_tree_clf.predict_proba(X_test_prepared)\n",
        "roc_auc_score(y_test, y_test_pred[:,1])"
      ]
    },
    {
      "cell_type": "markdown",
      "metadata": {
        "id": "yHfLSgYfrPub"
      },
      "source": [
        "## AdaBoost Tree"
      ]
    },
    {
      "cell_type": "code",
      "source": [
        ""
      ],
      "metadata": {
        "id": "qjxOrNcdrPul"
      },
      "execution_count": null,
      "outputs": []
    },
    {
      "cell_type": "code",
      "source": [
        "# benchmark model using default hyperparameters\n",
        "tree_clf = AdaBoostClassifier(random_state=42)\n",
        "#y_train_pred = cross_val_predict(tree_rg, X_train_prepared, y_train, cv=4)\n"
      ],
      "metadata": {
        "id": "OEg6Svi0rPul"
      },
      "execution_count": null,
      "outputs": []
    },
    {
      "cell_type": "code",
      "source": [
        "tree_clf.fit(X_train_prepared, np.ravel(y_train))"
      ],
      "metadata": {
        "colab": {
          "base_uri": "https://localhost:8080/"
        },
        "id": "MxfQklz3r676",
        "outputId": "22177535-cde5-4b4a-915e-76ce00bd1c9e"
      },
      "execution_count": null,
      "outputs": [
        {
          "output_type": "execute_result",
          "data": {
            "text/plain": [
              "AdaBoostClassifier(random_state=42)"
            ]
          },
          "metadata": {},
          "execution_count": 29
        }
      ]
    },
    {
      "cell_type": "code",
      "source": [
        "y_pred = tree_clf.predict(X_train_prepared)"
      ],
      "metadata": {
        "id": "zVIkNt0Ws706"
      },
      "execution_count": null,
      "outputs": []
    },
    {
      "cell_type": "code",
      "source": [
        "accuracy_score(y_train, y_pred)"
      ],
      "metadata": {
        "colab": {
          "base_uri": "https://localhost:8080/"
        },
        "id": "olnNCdoctyJ8",
        "outputId": "7e901dfd-8084-4083-a51b-794274bec41c"
      },
      "execution_count": null,
      "outputs": [
        {
          "output_type": "execute_result",
          "data": {
            "text/plain": [
              "0.5464911638552453"
            ]
          },
          "metadata": {},
          "execution_count": 31
        }
      ]
    },
    {
      "cell_type": "code",
      "source": [
        "scores = cross_val_score(tree_clf, X_train_prepared, np.ravel(y_train), cv=4, scoring = 'roc_auc')"
      ],
      "metadata": {
        "id": "1uErwJbfr5qq"
      },
      "execution_count": null,
      "outputs": []
    },
    {
      "cell_type": "code",
      "source": [
        "scores.mean()"
      ],
      "metadata": {
        "colab": {
          "base_uri": "https://localhost:8080/"
        },
        "outputId": "f30676b1-b801-4a42-ef80-1aee0724ab4e",
        "id": "hL_n8L2UrPum"
      },
      "execution_count": null,
      "outputs": [
        {
          "output_type": "execute_result",
          "data": {
            "text/plain": [
              "0.5681538519499965"
            ]
          },
          "metadata": {},
          "execution_count": 34
        }
      ]
    },
    {
      "cell_type": "markdown",
      "metadata": {
        "id": "FSdzBGk4rPum"
      },
      "source": [
        "#### Decision Tree Tuning - Individual Params"
      ]
    },
    {
      "cell_type": "code",
      "execution_count": null,
      "metadata": {
        "id": "FQtxFmCqrPum"
      },
      "outputs": [],
      "source": [
        "# tuning hyperparameters\n",
        "param_1 = {'n_estimators': [1,10,50,100,500]}\n",
        "param_2 = {'learning_rate': [None,0.1,0.2,0.5,0.9]}\n",
        "param_3 = {'algorithm': ['SAMME', 'SAMME.R']}\n"
      ]
    },
    {
      "cell_type": "code",
      "source": [
        "tree_clf.get_params().keys()"
      ],
      "metadata": {
        "colab": {
          "base_uri": "https://localhost:8080/"
        },
        "id": "kUlLNJ04t_HU",
        "outputId": "9f3d89d4-e204-4efd-9b18-fb8440e45bb5"
      },
      "execution_count": null,
      "outputs": [
        {
          "output_type": "execute_result",
          "data": {
            "text/plain": [
              "dict_keys(['algorithm', 'base_estimator', 'learning_rate', 'n_estimators', 'random_state'])"
            ]
          },
          "metadata": {},
          "execution_count": 38
        }
      ]
    },
    {
      "cell_type": "code",
      "execution_count": null,
      "metadata": {
        "id": "mE3ZYnRXrPum"
      },
      "outputs": [],
      "source": [
        "tree_clf_1 = GridSearchCV(tree_clf, param_1, cv=4, scoring='roc_auc')\n",
        "tree_clf_1.fit(X_train_prepared, np.ravel(y_train))\n",
        "score_1 = tree_clf_1.cv_results_['mean_test_score']"
      ]
    },
    {
      "cell_type": "code",
      "execution_count": null,
      "metadata": {
        "id": "Sr3zqGbQrPun",
        "colab": {
          "base_uri": "https://localhost:8080/"
        },
        "outputId": "0f6dde52-49a7-4b58-c4e1-91602c069e8c"
      },
      "outputs": [
        {
          "output_type": "stream",
          "name": "stdout",
          "text": [
            "{'n_estimators': [1, 10, 50, 100, 500]}\n",
            "[0.52082953 0.55876547 0.56815385 0.56956138 0.57228095]\n"
          ]
        }
      ],
      "source": [
        "print(param_1)\n",
        "print(score_1)"
      ]
    },
    {
      "cell_type": "code",
      "source": [
        "print(1)"
      ],
      "metadata": {
        "id": "KSym3Yay82r-",
        "outputId": "a2419863-9773-4b7c-edc1-abb93574bc50",
        "colab": {
          "base_uri": "https://localhost:8080/"
        }
      },
      "execution_count": null,
      "outputs": [
        {
          "output_type": "stream",
          "name": "stdout",
          "text": [
            "1\n"
          ]
        }
      ]
    },
    {
      "cell_type": "code",
      "execution_count": null,
      "metadata": {
        "id": "j4pGqGcjrPun",
        "colab": {
          "base_uri": "https://localhost:8080/"
        },
        "outputId": "acfcce6e-45ba-41f0-8e89-56e4da9023b2"
      },
      "outputs": [
        {
          "output_type": "stream",
          "name": "stderr",
          "text": [
            "/usr/local/lib/python3.7/dist-packages/sklearn/model_selection/_validation.py:372: FitFailedWarning: \n",
            "4 fits failed out of a total of 20.\n",
            "The score on these train-test partitions for these parameters will be set to nan.\n",
            "If these failures are not expected, you can try to debug them by setting error_score='raise'.\n",
            "\n",
            "Below are more details about the failures:\n",
            "--------------------------------------------------------------------------------\n",
            "4 fits failed with the following error:\n",
            "Traceback (most recent call last):\n",
            "  File \"/usr/local/lib/python3.7/dist-packages/sklearn/model_selection/_validation.py\", line 680, in _fit_and_score\n",
            "    estimator.fit(X_train, y_train, **fit_params)\n",
            "  File \"/usr/local/lib/python3.7/dist-packages/sklearn/ensemble/_weight_boosting.py\", line 486, in fit\n",
            "    return super().fit(X, y, sample_weight)\n",
            "  File \"/usr/local/lib/python3.7/dist-packages/sklearn/ensemble/_weight_boosting.py\", line 113, in fit\n",
            "    if self.learning_rate <= 0:\n",
            "TypeError: '<=' not supported between instances of 'NoneType' and 'int'\n",
            "\n",
            "  warnings.warn(some_fits_failed_message, FitFailedWarning)\n",
            "/usr/local/lib/python3.7/dist-packages/sklearn/model_selection/_search.py:972: UserWarning: One or more of the test scores are non-finite: [       nan 0.56122344 0.56335246 0.56660822 0.56807602]\n",
            "  category=UserWarning,\n"
          ]
        }
      ],
      "source": [
        "tree_clf_2 = GridSearchCV(tree_clf, param_2, cv=4, scoring='roc_auc')\n",
        "tree_clf_2.fit(X_train_prepared, np.ravel(y_train))\n",
        "score_2 = tree_clf_2.cv_results_['mean_test_score']"
      ]
    },
    {
      "cell_type": "code",
      "execution_count": null,
      "metadata": {
        "colab": {
          "base_uri": "https://localhost:8080/"
        },
        "outputId": "97de1be8-6cf4-402d-ebb9-ae5312861c82",
        "id": "PBPS3ymurPun"
      },
      "outputs": [
        {
          "output_type": "stream",
          "name": "stdout",
          "text": [
            "{'learning_rate': [None, 0.1, 0.2, 0.5, 0.9]}\n",
            "[       nan 0.56122344 0.56335246 0.56660822 0.56807602]\n"
          ]
        }
      ],
      "source": [
        "print(param_2)\n",
        "print(score_2)"
      ]
    },
    {
      "cell_type": "code",
      "execution_count": null,
      "metadata": {
        "id": "Mkay2uAnrPun"
      },
      "outputs": [],
      "source": [
        "tree_clf_3 = GridSearchCV(tree_clf, param_3, cv=4, scoring='roc_auc')\n",
        "tree_clf_3.fit(X_train_prepared, np.ravel(y_train))\n",
        "score_3 = tree_clf_3.cv_results_['mean_test_score']"
      ]
    },
    {
      "cell_type": "code",
      "execution_count": null,
      "metadata": {
        "colab": {
          "base_uri": "https://localhost:8080/"
        },
        "outputId": "f48640d0-e565-4299-b813-8115780bf466",
        "id": "QXTIglFWrPun"
      },
      "outputs": [
        {
          "output_type": "stream",
          "name": "stdout",
          "text": [
            "{'algorithm': ['SAMME', 'SAMME.R']}\n",
            "[0.55926638 0.56815385]\n"
          ]
        }
      ],
      "source": [
        "print(param_3)\n",
        "print(score_3)"
      ]
    },
    {
      "cell_type": "code",
      "execution_count": null,
      "metadata": {
        "id": "P-ixvr9drPuo"
      },
      "outputs": [],
      "source": [
        "tree_clf_4 = GridSearchCV(tree_clf, param_4, cv=4, scoring='roc_auc')\n",
        "tree_clf_4.fit(X_train_prepared, y_train)\n",
        "score_4 = tree_clf_4.cv_results_['mean_test_score']"
      ]
    },
    {
      "cell_type": "code",
      "execution_count": null,
      "metadata": {
        "colab": {
          "base_uri": "https://localhost:8080/"
        },
        "outputId": "d6bf1411-243e-4658-a835-b7ef6f646d47",
        "id": "XiNiURnzrPuo"
      },
      "outputs": [
        {
          "output_type": "stream",
          "name": "stdout",
          "text": [
            "{'min_samples_leaf': [1, 10, 50, 100, 500]}\n",
            "[0.56531855 0.62950871 0.66978317 0.67799734 0.66852537]\n"
          ]
        }
      ],
      "source": [
        "print(param_4)\n",
        "print(score_4)"
      ]
    },
    {
      "cell_type": "code",
      "execution_count": null,
      "metadata": {
        "id": "BMeNlx8mrPuo"
      },
      "outputs": [],
      "source": [
        "tree_clf_5 = GridSearchCV(tree_clf, param_5, cv=4, scoring='roc_auc')\n",
        "tree_clf_5.fit(X_train_prepared, y_train)\n",
        "score_5 = tree_clf_5.cv_results_['mean_test_score']"
      ]
    },
    {
      "cell_type": "code",
      "execution_count": null,
      "metadata": {
        "colab": {
          "base_uri": "https://localhost:8080/"
        },
        "outputId": "52f7f6a7-9801-453f-82ee-f6939e8c4e9c",
        "id": "ERcsdZjbrPuo"
      },
      "outputs": [
        {
          "output_type": "stream",
          "name": "stdout",
          "text": [
            "{'max_leaf_nodes': [None, 100, 50, 10, 5, 2]}\n",
            "[0.56531855 0.63188022 0.61708118 0.57450919 0.56727609 0.52082953]\n"
          ]
        }
      ],
      "source": [
        "print(param_5)\n",
        "print(score_5)"
      ]
    },
    {
      "cell_type": "markdown",
      "source": [
        "### Ada Boost - With Decision Tree"
      ],
      "metadata": {
        "id": "-3EoAnafXJfE"
      }
    },
    {
      "cell_type": "code",
      "source": [
        "# Based off Siqi's Decision Tree Classifier training\n",
        "base_tree_clf = DecisionTreeClassifier(criterion = 'gini', max_depth = 46, max_leaf_nodes = 432, min_samples_leaf = 372, min_samples_split = 198)\n",
        "ada_tree_clf = AdaBoostClassifier(base_estimator = base_tree_clf, random_state=42, algorithm='SAMME.R')"
      ],
      "metadata": {
        "id": "Iy3A-SMRXMTC"
      },
      "execution_count": null,
      "outputs": []
    },
    {
      "cell_type": "code",
      "execution_count": null,
      "metadata": {
        "id": "6lNPp143YNgd"
      },
      "outputs": [],
      "source": [
        "# tuning hyperparameters\n",
        "param_1 = {'n_estimators': [500, 1000, 1500]}\n",
        "# param_2 = {'learning_rate': [None,0.1,0.2,0.5,0.9]}\n",
        "# param_3 = {'algorithm': ['SAMME', 'SAMME.R']}\n"
      ]
    },
    {
      "cell_type": "code",
      "execution_count": null,
      "metadata": {
        "id": "-Ii5dx7oYNge",
        "outputId": "38289903-fee1-4383-e0ff-e36e2626cb90",
        "colab": {
          "base_uri": "https://localhost:8080/",
          "height": 201
        }
      },
      "outputs": [
        {
          "output_type": "error",
          "ename": "NameError",
          "evalue": "ignored",
          "traceback": [
            "\u001b[0;31m---------------------------------------------------------------------------\u001b[0m",
            "\u001b[0;31mNameError\u001b[0m                                 Traceback (most recent call last)",
            "\u001b[0;32m<ipython-input-2-57b9a21320b9>\u001b[0m in \u001b[0;36m<module>\u001b[0;34m()\u001b[0m\n\u001b[0;32m----> 1\u001b[0;31m \u001b[0mada_tree_clf_1\u001b[0m \u001b[0;34m=\u001b[0m \u001b[0mGridSearchCV\u001b[0m\u001b[0;34m(\u001b[0m\u001b[0mada_tree_clf\u001b[0m\u001b[0;34m,\u001b[0m \u001b[0mparam_1\u001b[0m\u001b[0;34m,\u001b[0m \u001b[0mcv\u001b[0m\u001b[0;34m=\u001b[0m\u001b[0;36m4\u001b[0m\u001b[0;34m,\u001b[0m \u001b[0mscoring\u001b[0m\u001b[0;34m=\u001b[0m\u001b[0;34m'roc_auc'\u001b[0m\u001b[0;34m)\u001b[0m\u001b[0;34m\u001b[0m\u001b[0;34m\u001b[0m\u001b[0m\n\u001b[0m\u001b[1;32m      2\u001b[0m \u001b[0mada_tree_clf_1\u001b[0m\u001b[0;34m.\u001b[0m\u001b[0mfit\u001b[0m\u001b[0;34m(\u001b[0m\u001b[0mX_train_prepared\u001b[0m\u001b[0;34m,\u001b[0m \u001b[0mnp\u001b[0m\u001b[0;34m.\u001b[0m\u001b[0mravel\u001b[0m\u001b[0;34m(\u001b[0m\u001b[0my_train\u001b[0m\u001b[0;34m)\u001b[0m\u001b[0;34m)\u001b[0m\u001b[0;34m\u001b[0m\u001b[0;34m\u001b[0m\u001b[0m\n\u001b[1;32m      3\u001b[0m \u001b[0mscore_1\u001b[0m \u001b[0;34m=\u001b[0m \u001b[0mada_tree_clf_1\u001b[0m\u001b[0;34m.\u001b[0m\u001b[0mcv_results_\u001b[0m\u001b[0;34m[\u001b[0m\u001b[0;34m'mean_test_score'\u001b[0m\u001b[0;34m]\u001b[0m\u001b[0;34m\u001b[0m\u001b[0;34m\u001b[0m\u001b[0m\n",
            "\u001b[0;31mNameError\u001b[0m: name 'GridSearchCV' is not defined"
          ]
        }
      ],
      "source": [
        "ada_tree_clf_1 = GridSearchCV(ada_tree_clf, param_1, cv=4, scoring='roc_auc')\n",
        "ada_tree_clf_1.fit(X_train_prepared, np.ravel(y_train))\n",
        "score_1 = ada_tree_clf_1.cv_results_['mean_test_score']"
      ]
    },
    {
      "cell_type": "code",
      "source": [
        "print(param_1)\n",
        "print(score_1)"
      ],
      "metadata": {
        "id": "trg3ROieYv_O"
      },
      "execution_count": null,
      "outputs": []
    },
    {
      "cell_type": "markdown",
      "metadata": {
        "id": "SdKeXozkrPup"
      },
      "source": [
        "#### Decision Tree Tuning - All parameters"
      ]
    },
    {
      "cell_type": "code",
      "execution_count": null,
      "metadata": {
        "id": "BN2RpvO_rPup"
      },
      "outputs": [],
      "source": [
        "hyperparamters_2 = {'criterion': ['gini','entropy'],\n",
        "                     'max_depth': randint(1,50),\n",
        "                    'min_samples_split': randint(100,1000),\n",
        "                    'min_samples_leaf': randint(50,500),\n",
        "                    'max_leaf_nodes': randint(50,500)}"
      ]
    },
    {
      "cell_type": "code",
      "execution_count": null,
      "metadata": {
        "colab": {
          "base_uri": "https://localhost:8080/"
        },
        "outputId": "adf71273-0759-47ea-cda4-6cc58a3a4dc2",
        "id": "utX6aplcrPup"
      },
      "outputs": [
        {
          "output_type": "execute_result",
          "data": {
            "text/plain": [
              "RandomizedSearchCV(cv=4, estimator=DecisionTreeClassifier(random_state=42),\n",
              "                   param_distributions={'criterion': ['gini', 'entropy'],\n",
              "                                        'max_depth': <scipy.stats._distn_infrastructure.rv_frozen object at 0x7f3b1d10ee50>,\n",
              "                                        'max_leaf_nodes': <scipy.stats._distn_infrastructure.rv_frozen object at 0x7f3b167d9450>,\n",
              "                                        'min_samples_leaf': <scipy.stats._distn_infrastructure.rv_frozen object at 0x7f3b167d98d0>,\n",
              "                                        'min_samples_split': <scipy.stats._distn_infrastructure.rv_frozen object at 0x7f3b1697e890>},\n",
              "                   scoring='roc_auc')"
            ]
          },
          "metadata": {},
          "execution_count": 52
        }
      ],
      "source": [
        "tree_clf_rand = RandomizedSearchCV(tree_clf, hyperparamters_2, cv=4, scoring='roc_auc')\n",
        "tree_clf_rand.fit(X_train_prepared, y_train)"
      ]
    },
    {
      "cell_type": "code",
      "execution_count": null,
      "metadata": {
        "colab": {
          "base_uri": "https://localhost:8080/"
        },
        "outputId": "428fb4e1-b077-4f3a-8209-f92463c8d5d2",
        "id": "V-ShC-5MrPup"
      },
      "outputs": [
        {
          "output_type": "stream",
          "name": "stdout",
          "text": [
            "{'criterion': 'gini', 'max_depth': 46, 'max_leaf_nodes': 432, 'min_samples_leaf': 372, 'min_samples_split': 198}\n",
            "0.6608666122654997\n"
          ]
        }
      ],
      "source": [
        "print(tree_clf_rand.best_params_)\n",
        "print(tree_clf_rand.best_score_)"
      ]
    },
    {
      "cell_type": "code",
      "source": [
        "final_tree_clf = tree_clf_rand.best_estimator_"
      ],
      "metadata": {
        "id": "IWmtac4XrPup"
      },
      "execution_count": null,
      "outputs": []
    },
    {
      "cell_type": "code",
      "source": [
        "get_top_features(final_tree_clf,40)"
      ],
      "metadata": {
        "colab": {
          "base_uri": "https://localhost:8080/"
        },
        "outputId": "70bf5b0b-c174-49ff-929f-d36480e2639b",
        "id": "WmMJFEbXrPuq"
      },
      "execution_count": null,
      "outputs": [
        {
          "output_type": "execute_result",
          "data": {
            "text/plain": [
              "[('POI_distance', 0.32843471763596255),\n",
              " ('capacity', 0.07844351187810701),\n",
              " ('x0_10AM-2PM', 0.06395060549175349),\n",
              " (\"x1_Queen's Park\", 0.06240643099759838),\n",
              " ('x0_6AM-10AM', 0.035661942606273235),\n",
              " ('x1_King', 0.034892834722501175),\n",
              " ('x1_St Patrick', 0.03489025487223086),\n",
              " ('Is_Weekend', 0.02934168684584401),\n",
              " ('x1_Dundas', 0.029169843044116912),\n",
              " ('x1_St Andrew', 0.02750305571796595),\n",
              " ('x1_Queen', 0.02338513629720263),\n",
              " ('x1_Osgoode', 0.022914425264749582),\n",
              " ('x1_Union Station', 0.02242465349807036),\n",
              " ('x0_2PM-6PM', 0.01952159383615947),\n",
              " ('x0_2AM-6AM', 0.016365613879997184),\n",
              " ('x1_Wellesley', 0.015250336644851713),\n",
              " ('x1_Museum Station', 0.015190404147962772),\n",
              " ('x1_Sherbourne', 0.014961305167813434),\n",
              " ('x1_Bay', 0.011986140533208607),\n",
              " ('x1_Exhibition GO', 0.009987969713816795),\n",
              " ('x1_Dundas West', 0.007379716589652548),\n",
              " ('x1_St. Clair West', 0.007316795912558427),\n",
              " ('x1_Lawrence', 0.007094135850992359),\n",
              " ('x1_Jane', 0.006680498051827914),\n",
              " ('x1_College Station', 0.006676083841694849),\n",
              " ('Month', 0.006163767718707996),\n",
              " ('x1_Dufferin', 0.005489345195081139),\n",
              " ('x1_Rosedale', 0.005437673600505104),\n",
              " ('x1_Ossington', 0.004569538837080865),\n",
              " ('x1_Lansdowne', 0.004433208563302878),\n",
              " ('x1_Broadview', 0.004160558462935854),\n",
              " ('x1_High Park', 0.003470913791646974),\n",
              " ('x1_Dupont', 0.0032570883353786537),\n",
              " ('x1_Eglinton', 0.0025192736691326914),\n",
              " ('x0_10PM-2AM', 0.002492848523670766),\n",
              " ('x1_Coxwell', 0.002417084961088089),\n",
              " ('x1_Keele', 0.002293594228881948),\n",
              " ('x1_Spadina', 0.0021463885708138293),\n",
              " ('Temp (°C)', 0.00197268974097951),\n",
              " ('x1_Eglinton West', 0.0018928901038992023)]"
            ]
          },
          "metadata": {},
          "execution_count": 55
        }
      ]
    },
    {
      "cell_type": "markdown",
      "source": [
        "### Testing with final decision tree model"
      ],
      "metadata": {
        "id": "dm8PKOEVrPuq"
      }
    },
    {
      "cell_type": "code",
      "source": [
        "X_test = df_test[[col for col in df.columns if col not in cols_to_drop+target]]\n",
        "y_test = df_test[target]"
      ],
      "metadata": {
        "id": "UgXGZmLqrPuq"
      },
      "execution_count": null,
      "outputs": []
    },
    {
      "cell_type": "code",
      "execution_count": null,
      "metadata": {
        "colab": {
          "base_uri": "https://localhost:8080/"
        },
        "outputId": "186d3dc4-b07c-4fea-f28b-c919a7a809a2",
        "id": "nM8JpaTnrPuq"
      },
      "outputs": [
        {
          "output_type": "execute_result",
          "data": {
            "text/plain": [
              "0.6619251848050339"
            ]
          },
          "metadata": {},
          "execution_count": 59
        }
      ],
      "source": [
        "\n",
        "X_test_prepared=full_pipeline.transform(X_test)\n",
        "y_test_pred = final_tree_clf.predict_proba(X_test_prepared)\n",
        "roc_auc_score(y_test, y_test_pred[:,1])"
      ]
    },
    {
      "cell_type": "markdown",
      "metadata": {
        "id": "wECOvMt-VKx6"
      },
      "source": [
        "\n",
        "\n",
        "```\n",
        "# This is formatted as code\n",
        "```\n",
        "\n",
        "## Decision Tree (Regression) -NOT USED-"
      ]
    },
    {
      "cell_type": "code",
      "source": [
        "# benchmark model using default hyperparameters\n",
        "tree_clf = DecisionTreeClassifier(random_state=42)\n",
        "#y_train_pred = cross_val_predict(tree_rg, X_train_prepared, y_train, cv=4)\n",
        "scores = cross_val_score(tree_clf, X_train_prepared, y_train, cv=4, scoring = 'roc_auc')"
      ],
      "metadata": {
        "id": "hDadbVkWj-Lc",
        "colab": {
          "base_uri": "https://localhost:8080/"
        },
        "outputId": "1354e7fa-5bc8-4974-8a5f-85e42c2cbf92"
      },
      "execution_count": null,
      "outputs": [
        {
          "output_type": "error",
          "ename": "KeyboardInterrupt",
          "evalue": "ignored",
          "traceback": [
            "\u001b[0;31m---------------------------------------------------------------------------\u001b[0m",
            "\u001b[0;31mKeyboardInterrupt\u001b[0m                         Traceback (most recent call last)",
            "\u001b[0;32m<ipython-input-34-c78eac697e7f>\u001b[0m in \u001b[0;36m<module>\u001b[0;34m()\u001b[0m\n\u001b[1;32m      2\u001b[0m \u001b[0mtree_clf\u001b[0m \u001b[0;34m=\u001b[0m \u001b[0mDecisionTreeClassifier\u001b[0m\u001b[0;34m(\u001b[0m\u001b[0mrandom_state\u001b[0m\u001b[0;34m=\u001b[0m\u001b[0;36m42\u001b[0m\u001b[0;34m)\u001b[0m\u001b[0;34m\u001b[0m\u001b[0;34m\u001b[0m\u001b[0m\n\u001b[1;32m      3\u001b[0m \u001b[0;31m#y_train_pred = cross_val_predict(tree_rg, X_train_prepared, y_train, cv=4)\u001b[0m\u001b[0;34m\u001b[0m\u001b[0;34m\u001b[0m\u001b[0;34m\u001b[0m\u001b[0m\n\u001b[0;32m----> 4\u001b[0;31m \u001b[0mscores\u001b[0m \u001b[0;34m=\u001b[0m \u001b[0mcross_val_score\u001b[0m\u001b[0;34m(\u001b[0m\u001b[0mtree_clf\u001b[0m\u001b[0;34m,\u001b[0m \u001b[0mX_train_prepared\u001b[0m\u001b[0;34m,\u001b[0m \u001b[0my_train\u001b[0m\u001b[0;34m,\u001b[0m \u001b[0mcv\u001b[0m\u001b[0;34m=\u001b[0m\u001b[0;36m4\u001b[0m\u001b[0;34m,\u001b[0m \u001b[0mscoring\u001b[0m \u001b[0;34m=\u001b[0m \u001b[0;34m'roc_auc'\u001b[0m\u001b[0;34m)\u001b[0m\u001b[0;34m\u001b[0m\u001b[0;34m\u001b[0m\u001b[0m\n\u001b[0m",
            "\u001b[0;32m/usr/local/lib/python3.7/dist-packages/sklearn/model_selection/_validation.py\u001b[0m in \u001b[0;36mcross_val_score\u001b[0;34m(estimator, X, y, groups, scoring, cv, n_jobs, verbose, fit_params, pre_dispatch, error_score)\u001b[0m\n\u001b[1;32m    518\u001b[0m         \u001b[0mfit_params\u001b[0m\u001b[0;34m=\u001b[0m\u001b[0mfit_params\u001b[0m\u001b[0;34m,\u001b[0m\u001b[0;34m\u001b[0m\u001b[0;34m\u001b[0m\u001b[0m\n\u001b[1;32m    519\u001b[0m         \u001b[0mpre_dispatch\u001b[0m\u001b[0;34m=\u001b[0m\u001b[0mpre_dispatch\u001b[0m\u001b[0;34m,\u001b[0m\u001b[0;34m\u001b[0m\u001b[0;34m\u001b[0m\u001b[0m\n\u001b[0;32m--> 520\u001b[0;31m         \u001b[0merror_score\u001b[0m\u001b[0;34m=\u001b[0m\u001b[0merror_score\u001b[0m\u001b[0;34m,\u001b[0m\u001b[0;34m\u001b[0m\u001b[0;34m\u001b[0m\u001b[0m\n\u001b[0m\u001b[1;32m    521\u001b[0m     )\n\u001b[1;32m    522\u001b[0m     \u001b[0;32mreturn\u001b[0m \u001b[0mcv_results\u001b[0m\u001b[0;34m[\u001b[0m\u001b[0;34m\"test_score\"\u001b[0m\u001b[0;34m]\u001b[0m\u001b[0;34m\u001b[0m\u001b[0;34m\u001b[0m\u001b[0m\n",
            "\u001b[0;32m/usr/local/lib/python3.7/dist-packages/sklearn/model_selection/_validation.py\u001b[0m in \u001b[0;36mcross_validate\u001b[0;34m(estimator, X, y, groups, scoring, cv, n_jobs, verbose, fit_params, pre_dispatch, return_train_score, return_estimator, error_score)\u001b[0m\n\u001b[1;32m    281\u001b[0m             \u001b[0merror_score\u001b[0m\u001b[0;34m=\u001b[0m\u001b[0merror_score\u001b[0m\u001b[0;34m,\u001b[0m\u001b[0;34m\u001b[0m\u001b[0;34m\u001b[0m\u001b[0m\n\u001b[1;32m    282\u001b[0m         )\n\u001b[0;32m--> 283\u001b[0;31m         \u001b[0;32mfor\u001b[0m \u001b[0mtrain\u001b[0m\u001b[0;34m,\u001b[0m \u001b[0mtest\u001b[0m \u001b[0;32min\u001b[0m \u001b[0mcv\u001b[0m\u001b[0;34m.\u001b[0m\u001b[0msplit\u001b[0m\u001b[0;34m(\u001b[0m\u001b[0mX\u001b[0m\u001b[0;34m,\u001b[0m \u001b[0my\u001b[0m\u001b[0;34m,\u001b[0m \u001b[0mgroups\u001b[0m\u001b[0;34m)\u001b[0m\u001b[0;34m\u001b[0m\u001b[0;34m\u001b[0m\u001b[0m\n\u001b[0m\u001b[1;32m    284\u001b[0m     )\n\u001b[1;32m    285\u001b[0m \u001b[0;34m\u001b[0m\u001b[0m\n",
            "\u001b[0;32m/usr/local/lib/python3.7/dist-packages/joblib/parallel.py\u001b[0m in \u001b[0;36m__call__\u001b[0;34m(self, iterable)\u001b[0m\n\u001b[1;32m   1044\u001b[0m                 \u001b[0mself\u001b[0m\u001b[0;34m.\u001b[0m\u001b[0m_iterating\u001b[0m \u001b[0;34m=\u001b[0m \u001b[0mself\u001b[0m\u001b[0;34m.\u001b[0m\u001b[0m_original_iterator\u001b[0m \u001b[0;32mis\u001b[0m \u001b[0;32mnot\u001b[0m \u001b[0;32mNone\u001b[0m\u001b[0;34m\u001b[0m\u001b[0;34m\u001b[0m\u001b[0m\n\u001b[1;32m   1045\u001b[0m \u001b[0;34m\u001b[0m\u001b[0m\n\u001b[0;32m-> 1046\u001b[0;31m             \u001b[0;32mwhile\u001b[0m \u001b[0mself\u001b[0m\u001b[0;34m.\u001b[0m\u001b[0mdispatch_one_batch\u001b[0m\u001b[0;34m(\u001b[0m\u001b[0miterator\u001b[0m\u001b[0;34m)\u001b[0m\u001b[0;34m:\u001b[0m\u001b[0;34m\u001b[0m\u001b[0;34m\u001b[0m\u001b[0m\n\u001b[0m\u001b[1;32m   1047\u001b[0m                 \u001b[0;32mpass\u001b[0m\u001b[0;34m\u001b[0m\u001b[0;34m\u001b[0m\u001b[0m\n\u001b[1;32m   1048\u001b[0m \u001b[0;34m\u001b[0m\u001b[0m\n",
            "\u001b[0;32m/usr/local/lib/python3.7/dist-packages/joblib/parallel.py\u001b[0m in \u001b[0;36mdispatch_one_batch\u001b[0;34m(self, iterator)\u001b[0m\n\u001b[1;32m    859\u001b[0m                 \u001b[0;32mreturn\u001b[0m \u001b[0;32mFalse\u001b[0m\u001b[0;34m\u001b[0m\u001b[0;34m\u001b[0m\u001b[0m\n\u001b[1;32m    860\u001b[0m             \u001b[0;32melse\u001b[0m\u001b[0;34m:\u001b[0m\u001b[0;34m\u001b[0m\u001b[0;34m\u001b[0m\u001b[0m\n\u001b[0;32m--> 861\u001b[0;31m                 \u001b[0mself\u001b[0m\u001b[0;34m.\u001b[0m\u001b[0m_dispatch\u001b[0m\u001b[0;34m(\u001b[0m\u001b[0mtasks\u001b[0m\u001b[0;34m)\u001b[0m\u001b[0;34m\u001b[0m\u001b[0;34m\u001b[0m\u001b[0m\n\u001b[0m\u001b[1;32m    862\u001b[0m                 \u001b[0;32mreturn\u001b[0m \u001b[0;32mTrue\u001b[0m\u001b[0;34m\u001b[0m\u001b[0;34m\u001b[0m\u001b[0m\n\u001b[1;32m    863\u001b[0m \u001b[0;34m\u001b[0m\u001b[0m\n",
            "\u001b[0;32m/usr/local/lib/python3.7/dist-packages/joblib/parallel.py\u001b[0m in \u001b[0;36m_dispatch\u001b[0;34m(self, batch)\u001b[0m\n\u001b[1;32m    777\u001b[0m         \u001b[0;32mwith\u001b[0m \u001b[0mself\u001b[0m\u001b[0;34m.\u001b[0m\u001b[0m_lock\u001b[0m\u001b[0;34m:\u001b[0m\u001b[0;34m\u001b[0m\u001b[0;34m\u001b[0m\u001b[0m\n\u001b[1;32m    778\u001b[0m             \u001b[0mjob_idx\u001b[0m \u001b[0;34m=\u001b[0m \u001b[0mlen\u001b[0m\u001b[0;34m(\u001b[0m\u001b[0mself\u001b[0m\u001b[0;34m.\u001b[0m\u001b[0m_jobs\u001b[0m\u001b[0;34m)\u001b[0m\u001b[0;34m\u001b[0m\u001b[0;34m\u001b[0m\u001b[0m\n\u001b[0;32m--> 779\u001b[0;31m             \u001b[0mjob\u001b[0m \u001b[0;34m=\u001b[0m \u001b[0mself\u001b[0m\u001b[0;34m.\u001b[0m\u001b[0m_backend\u001b[0m\u001b[0;34m.\u001b[0m\u001b[0mapply_async\u001b[0m\u001b[0;34m(\u001b[0m\u001b[0mbatch\u001b[0m\u001b[0;34m,\u001b[0m \u001b[0mcallback\u001b[0m\u001b[0;34m=\u001b[0m\u001b[0mcb\u001b[0m\u001b[0;34m)\u001b[0m\u001b[0;34m\u001b[0m\u001b[0;34m\u001b[0m\u001b[0m\n\u001b[0m\u001b[1;32m    780\u001b[0m             \u001b[0;31m# A job can complete so quickly than its callback is\u001b[0m\u001b[0;34m\u001b[0m\u001b[0;34m\u001b[0m\u001b[0;34m\u001b[0m\u001b[0m\n\u001b[1;32m    781\u001b[0m             \u001b[0;31m# called before we get here, causing self._jobs to\u001b[0m\u001b[0;34m\u001b[0m\u001b[0;34m\u001b[0m\u001b[0;34m\u001b[0m\u001b[0m\n",
            "\u001b[0;32m/usr/local/lib/python3.7/dist-packages/joblib/_parallel_backends.py\u001b[0m in \u001b[0;36mapply_async\u001b[0;34m(self, func, callback)\u001b[0m\n\u001b[1;32m    206\u001b[0m     \u001b[0;32mdef\u001b[0m \u001b[0mapply_async\u001b[0m\u001b[0;34m(\u001b[0m\u001b[0mself\u001b[0m\u001b[0;34m,\u001b[0m \u001b[0mfunc\u001b[0m\u001b[0;34m,\u001b[0m \u001b[0mcallback\u001b[0m\u001b[0;34m=\u001b[0m\u001b[0;32mNone\u001b[0m\u001b[0;34m)\u001b[0m\u001b[0;34m:\u001b[0m\u001b[0;34m\u001b[0m\u001b[0;34m\u001b[0m\u001b[0m\n\u001b[1;32m    207\u001b[0m         \u001b[0;34m\"\"\"Schedule a func to be run\"\"\"\u001b[0m\u001b[0;34m\u001b[0m\u001b[0;34m\u001b[0m\u001b[0m\n\u001b[0;32m--> 208\u001b[0;31m         \u001b[0mresult\u001b[0m \u001b[0;34m=\u001b[0m \u001b[0mImmediateResult\u001b[0m\u001b[0;34m(\u001b[0m\u001b[0mfunc\u001b[0m\u001b[0;34m)\u001b[0m\u001b[0;34m\u001b[0m\u001b[0;34m\u001b[0m\u001b[0m\n\u001b[0m\u001b[1;32m    209\u001b[0m         \u001b[0;32mif\u001b[0m \u001b[0mcallback\u001b[0m\u001b[0;34m:\u001b[0m\u001b[0;34m\u001b[0m\u001b[0;34m\u001b[0m\u001b[0m\n\u001b[1;32m    210\u001b[0m             \u001b[0mcallback\u001b[0m\u001b[0;34m(\u001b[0m\u001b[0mresult\u001b[0m\u001b[0;34m)\u001b[0m\u001b[0;34m\u001b[0m\u001b[0;34m\u001b[0m\u001b[0m\n",
            "\u001b[0;32m/usr/local/lib/python3.7/dist-packages/joblib/_parallel_backends.py\u001b[0m in \u001b[0;36m__init__\u001b[0;34m(self, batch)\u001b[0m\n\u001b[1;32m    570\u001b[0m         \u001b[0;31m# Don't delay the application, to avoid keeping the input\u001b[0m\u001b[0;34m\u001b[0m\u001b[0;34m\u001b[0m\u001b[0;34m\u001b[0m\u001b[0m\n\u001b[1;32m    571\u001b[0m         \u001b[0;31m# arguments in memory\u001b[0m\u001b[0;34m\u001b[0m\u001b[0;34m\u001b[0m\u001b[0;34m\u001b[0m\u001b[0m\n\u001b[0;32m--> 572\u001b[0;31m         \u001b[0mself\u001b[0m\u001b[0;34m.\u001b[0m\u001b[0mresults\u001b[0m \u001b[0;34m=\u001b[0m \u001b[0mbatch\u001b[0m\u001b[0;34m(\u001b[0m\u001b[0;34m)\u001b[0m\u001b[0;34m\u001b[0m\u001b[0;34m\u001b[0m\u001b[0m\n\u001b[0m\u001b[1;32m    573\u001b[0m \u001b[0;34m\u001b[0m\u001b[0m\n\u001b[1;32m    574\u001b[0m     \u001b[0;32mdef\u001b[0m \u001b[0mget\u001b[0m\u001b[0;34m(\u001b[0m\u001b[0mself\u001b[0m\u001b[0;34m)\u001b[0m\u001b[0;34m:\u001b[0m\u001b[0;34m\u001b[0m\u001b[0;34m\u001b[0m\u001b[0m\n",
            "\u001b[0;32m/usr/local/lib/python3.7/dist-packages/joblib/parallel.py\u001b[0m in \u001b[0;36m__call__\u001b[0;34m(self)\u001b[0m\n\u001b[1;32m    261\u001b[0m         \u001b[0;32mwith\u001b[0m \u001b[0mparallel_backend\u001b[0m\u001b[0;34m(\u001b[0m\u001b[0mself\u001b[0m\u001b[0;34m.\u001b[0m\u001b[0m_backend\u001b[0m\u001b[0;34m,\u001b[0m \u001b[0mn_jobs\u001b[0m\u001b[0;34m=\u001b[0m\u001b[0mself\u001b[0m\u001b[0;34m.\u001b[0m\u001b[0m_n_jobs\u001b[0m\u001b[0;34m)\u001b[0m\u001b[0;34m:\u001b[0m\u001b[0;34m\u001b[0m\u001b[0;34m\u001b[0m\u001b[0m\n\u001b[1;32m    262\u001b[0m             return [func(*args, **kwargs)\n\u001b[0;32m--> 263\u001b[0;31m                     for func, args, kwargs in self.items]\n\u001b[0m\u001b[1;32m    264\u001b[0m \u001b[0;34m\u001b[0m\u001b[0m\n\u001b[1;32m    265\u001b[0m     \u001b[0;32mdef\u001b[0m \u001b[0m__reduce__\u001b[0m\u001b[0;34m(\u001b[0m\u001b[0mself\u001b[0m\u001b[0;34m)\u001b[0m\u001b[0;34m:\u001b[0m\u001b[0;34m\u001b[0m\u001b[0;34m\u001b[0m\u001b[0m\n",
            "\u001b[0;32m/usr/local/lib/python3.7/dist-packages/joblib/parallel.py\u001b[0m in \u001b[0;36m<listcomp>\u001b[0;34m(.0)\u001b[0m\n\u001b[1;32m    261\u001b[0m         \u001b[0;32mwith\u001b[0m \u001b[0mparallel_backend\u001b[0m\u001b[0;34m(\u001b[0m\u001b[0mself\u001b[0m\u001b[0;34m.\u001b[0m\u001b[0m_backend\u001b[0m\u001b[0;34m,\u001b[0m \u001b[0mn_jobs\u001b[0m\u001b[0;34m=\u001b[0m\u001b[0mself\u001b[0m\u001b[0;34m.\u001b[0m\u001b[0m_n_jobs\u001b[0m\u001b[0;34m)\u001b[0m\u001b[0;34m:\u001b[0m\u001b[0;34m\u001b[0m\u001b[0;34m\u001b[0m\u001b[0m\n\u001b[1;32m    262\u001b[0m             return [func(*args, **kwargs)\n\u001b[0;32m--> 263\u001b[0;31m                     for func, args, kwargs in self.items]\n\u001b[0m\u001b[1;32m    264\u001b[0m \u001b[0;34m\u001b[0m\u001b[0m\n\u001b[1;32m    265\u001b[0m     \u001b[0;32mdef\u001b[0m \u001b[0m__reduce__\u001b[0m\u001b[0;34m(\u001b[0m\u001b[0mself\u001b[0m\u001b[0;34m)\u001b[0m\u001b[0;34m:\u001b[0m\u001b[0;34m\u001b[0m\u001b[0;34m\u001b[0m\u001b[0m\n",
            "\u001b[0;32m/usr/local/lib/python3.7/dist-packages/sklearn/utils/fixes.py\u001b[0m in \u001b[0;36m__call__\u001b[0;34m(self, *args, **kwargs)\u001b[0m\n\u001b[1;32m    214\u001b[0m     \u001b[0;32mdef\u001b[0m \u001b[0m__call__\u001b[0m\u001b[0;34m(\u001b[0m\u001b[0mself\u001b[0m\u001b[0;34m,\u001b[0m \u001b[0;34m*\u001b[0m\u001b[0margs\u001b[0m\u001b[0;34m,\u001b[0m \u001b[0;34m**\u001b[0m\u001b[0mkwargs\u001b[0m\u001b[0;34m)\u001b[0m\u001b[0;34m:\u001b[0m\u001b[0;34m\u001b[0m\u001b[0;34m\u001b[0m\u001b[0m\n\u001b[1;32m    215\u001b[0m         \u001b[0;32mwith\u001b[0m \u001b[0mconfig_context\u001b[0m\u001b[0;34m(\u001b[0m\u001b[0;34m**\u001b[0m\u001b[0mself\u001b[0m\u001b[0;34m.\u001b[0m\u001b[0mconfig\u001b[0m\u001b[0;34m)\u001b[0m\u001b[0;34m:\u001b[0m\u001b[0;34m\u001b[0m\u001b[0;34m\u001b[0m\u001b[0m\n\u001b[0;32m--> 216\u001b[0;31m             \u001b[0;32mreturn\u001b[0m \u001b[0mself\u001b[0m\u001b[0;34m.\u001b[0m\u001b[0mfunction\u001b[0m\u001b[0;34m(\u001b[0m\u001b[0;34m*\u001b[0m\u001b[0margs\u001b[0m\u001b[0;34m,\u001b[0m \u001b[0;34m**\u001b[0m\u001b[0mkwargs\u001b[0m\u001b[0;34m)\u001b[0m\u001b[0;34m\u001b[0m\u001b[0;34m\u001b[0m\u001b[0m\n\u001b[0m\u001b[1;32m    217\u001b[0m \u001b[0;34m\u001b[0m\u001b[0m\n\u001b[1;32m    218\u001b[0m \u001b[0;34m\u001b[0m\u001b[0m\n",
            "\u001b[0;32m/usr/local/lib/python3.7/dist-packages/sklearn/model_selection/_validation.py\u001b[0m in \u001b[0;36m_fit_and_score\u001b[0;34m(estimator, X, y, scorer, train, test, verbose, parameters, fit_params, return_train_score, return_parameters, return_n_test_samples, return_times, return_estimator, split_progress, candidate_progress, error_score)\u001b[0m\n\u001b[1;32m    678\u001b[0m             \u001b[0mestimator\u001b[0m\u001b[0;34m.\u001b[0m\u001b[0mfit\u001b[0m\u001b[0;34m(\u001b[0m\u001b[0mX_train\u001b[0m\u001b[0;34m,\u001b[0m \u001b[0;34m**\u001b[0m\u001b[0mfit_params\u001b[0m\u001b[0;34m)\u001b[0m\u001b[0;34m\u001b[0m\u001b[0;34m\u001b[0m\u001b[0m\n\u001b[1;32m    679\u001b[0m         \u001b[0;32melse\u001b[0m\u001b[0;34m:\u001b[0m\u001b[0;34m\u001b[0m\u001b[0;34m\u001b[0m\u001b[0m\n\u001b[0;32m--> 680\u001b[0;31m             \u001b[0mestimator\u001b[0m\u001b[0;34m.\u001b[0m\u001b[0mfit\u001b[0m\u001b[0;34m(\u001b[0m\u001b[0mX_train\u001b[0m\u001b[0;34m,\u001b[0m \u001b[0my_train\u001b[0m\u001b[0;34m,\u001b[0m \u001b[0;34m**\u001b[0m\u001b[0mfit_params\u001b[0m\u001b[0;34m)\u001b[0m\u001b[0;34m\u001b[0m\u001b[0;34m\u001b[0m\u001b[0m\n\u001b[0m\u001b[1;32m    681\u001b[0m \u001b[0;34m\u001b[0m\u001b[0m\n\u001b[1;32m    682\u001b[0m     \u001b[0;32mexcept\u001b[0m \u001b[0mException\u001b[0m\u001b[0;34m:\u001b[0m\u001b[0;34m\u001b[0m\u001b[0;34m\u001b[0m\u001b[0m\n",
            "\u001b[0;32m/usr/local/lib/python3.7/dist-packages/sklearn/tree/_classes.py\u001b[0m in \u001b[0;36mfit\u001b[0;34m(self, X, y, sample_weight, check_input, X_idx_sorted)\u001b[0m\n\u001b[1;32m    940\u001b[0m             \u001b[0msample_weight\u001b[0m\u001b[0;34m=\u001b[0m\u001b[0msample_weight\u001b[0m\u001b[0;34m,\u001b[0m\u001b[0;34m\u001b[0m\u001b[0;34m\u001b[0m\u001b[0m\n\u001b[1;32m    941\u001b[0m             \u001b[0mcheck_input\u001b[0m\u001b[0;34m=\u001b[0m\u001b[0mcheck_input\u001b[0m\u001b[0;34m,\u001b[0m\u001b[0;34m\u001b[0m\u001b[0;34m\u001b[0m\u001b[0m\n\u001b[0;32m--> 942\u001b[0;31m             \u001b[0mX_idx_sorted\u001b[0m\u001b[0;34m=\u001b[0m\u001b[0mX_idx_sorted\u001b[0m\u001b[0;34m,\u001b[0m\u001b[0;34m\u001b[0m\u001b[0;34m\u001b[0m\u001b[0m\n\u001b[0m\u001b[1;32m    943\u001b[0m         )\n\u001b[1;32m    944\u001b[0m         \u001b[0;32mreturn\u001b[0m \u001b[0mself\u001b[0m\u001b[0;34m\u001b[0m\u001b[0;34m\u001b[0m\u001b[0m\n",
            "\u001b[0;32m/usr/local/lib/python3.7/dist-packages/sklearn/tree/_classes.py\u001b[0m in \u001b[0;36mfit\u001b[0;34m(self, X, y, sample_weight, check_input, X_idx_sorted)\u001b[0m\n\u001b[1;32m    418\u001b[0m             )\n\u001b[1;32m    419\u001b[0m \u001b[0;34m\u001b[0m\u001b[0m\n\u001b[0;32m--> 420\u001b[0;31m         \u001b[0mbuilder\u001b[0m\u001b[0;34m.\u001b[0m\u001b[0mbuild\u001b[0m\u001b[0;34m(\u001b[0m\u001b[0mself\u001b[0m\u001b[0;34m.\u001b[0m\u001b[0mtree_\u001b[0m\u001b[0;34m,\u001b[0m \u001b[0mX\u001b[0m\u001b[0;34m,\u001b[0m \u001b[0my\u001b[0m\u001b[0;34m,\u001b[0m \u001b[0msample_weight\u001b[0m\u001b[0;34m)\u001b[0m\u001b[0;34m\u001b[0m\u001b[0;34m\u001b[0m\u001b[0m\n\u001b[0m\u001b[1;32m    421\u001b[0m \u001b[0;34m\u001b[0m\u001b[0m\n\u001b[1;32m    422\u001b[0m         \u001b[0;32mif\u001b[0m \u001b[0mself\u001b[0m\u001b[0;34m.\u001b[0m\u001b[0mn_outputs_\u001b[0m \u001b[0;34m==\u001b[0m \u001b[0;36m1\u001b[0m \u001b[0;32mand\u001b[0m \u001b[0mis_classifier\u001b[0m\u001b[0;34m(\u001b[0m\u001b[0mself\u001b[0m\u001b[0;34m)\u001b[0m\u001b[0;34m:\u001b[0m\u001b[0;34m\u001b[0m\u001b[0;34m\u001b[0m\u001b[0m\n",
            "\u001b[0;31mKeyboardInterrupt\u001b[0m: "
          ]
        }
      ]
    },
    {
      "cell_type": "code",
      "source": [
        "scores.mean()"
      ],
      "metadata": {
        "colab": {
          "base_uri": "https://localhost:8080/"
        },
        "id": "Dg4R8iOrkvWL",
        "outputId": "2eea8641-6114-47e7-da82-f63d9da95aff"
      },
      "execution_count": null,
      "outputs": [
        {
          "output_type": "execute_result",
          "data": {
            "text/plain": [
              "0.5639227458187611"
            ]
          },
          "metadata": {},
          "execution_count": 36
        }
      ]
    },
    {
      "cell_type": "code",
      "execution_count": null,
      "metadata": {
        "id": "43TN6cOEHwJQ"
      },
      "outputs": [],
      "source": [
        "# benchmark model using default hyperparameters\n",
        "tree_rg = DecisionTreeRegressor(random_state=42)\n",
        "#y_train_pred = cross_val_predict(tree_rg, X_train_prepared, y_train, cv=4)\n",
        "scores = cross_val_score(tree_rg, X_train_prepared, y_train, cv=4, scoring = 'neg_mean_squared_error')"
      ]
    },
    {
      "cell_type": "code",
      "source": [
        "np.sqrt(-scores).mean()"
      ],
      "metadata": {
        "colab": {
          "base_uri": "https://localhost:8080/"
        },
        "id": "P_YJieuOoRp2",
        "outputId": "0959fa66-17dd-4caf-b454-97b7627cf984"
      },
      "execution_count": null,
      "outputs": [
        {
          "output_type": "execute_result",
          "data": {
            "text/plain": [
              "0.6539123818861498"
            ]
          },
          "metadata": {},
          "execution_count": 30
        }
      ]
    },
    {
      "cell_type": "markdown",
      "metadata": {
        "id": "OAsj5fLvWz1H"
      },
      "source": [
        "#### Decision Tree Tuning - Individual Params"
      ]
    },
    {
      "cell_type": "code",
      "execution_count": null,
      "metadata": {
        "id": "DXqu8UQ2l56s"
      },
      "outputs": [],
      "source": [
        "# tuning hyperparameters\n",
        "param_1 = {'criterion': ['squared_error', 'poisson']}\n",
        "param_2 = {'max_depth': [None,100,50,10]}\n",
        "param_3 = {'min_samples_split': [2,100,500,1000]}\n",
        "param_4 = {'min_samples_leaf': [1,10,50,100,500]}\n",
        "param_5 = {'max_leaf_nodes': [None,100,50,10,5,2]}        "
      ]
    },
    {
      "cell_type": "code",
      "execution_count": null,
      "metadata": {
        "id": "eISj5OTDN6Wh",
        "colab": {
          "base_uri": "https://localhost:8080/"
        },
        "outputId": "253edb20-10af-47cf-a83d-323268db6af4"
      },
      "outputs": [
        {
          "output_type": "stream",
          "name": "stderr",
          "text": [
            "/usr/local/lib/python3.7/dist-packages/sklearn/model_selection/_validation.py:372: FitFailedWarning: \n",
            "4 fits failed out of a total of 8.\n",
            "The score on these train-test partitions for these parameters will be set to nan.\n",
            "If these failures are not expected, you can try to debug them by setting error_score='raise'.\n",
            "\n",
            "Below are more details about the failures:\n",
            "--------------------------------------------------------------------------------\n",
            "4 fits failed with the following error:\n",
            "Traceback (most recent call last):\n",
            "  File \"/usr/local/lib/python3.7/dist-packages/sklearn/model_selection/_validation.py\", line 680, in _fit_and_score\n",
            "    estimator.fit(X_train, y_train, **fit_params)\n",
            "  File \"/usr/local/lib/python3.7/dist-packages/sklearn/tree/_classes.py\", line 1320, in fit\n",
            "    X_idx_sorted=X_idx_sorted,\n",
            "  File \"/usr/local/lib/python3.7/dist-packages/sklearn/tree/_classes.py\", line 179, in fit\n",
            "    \"Some value(s) of y are negative which is\"\n",
            "ValueError: Some value(s) of y are negative which is not allowed for Poisson regression.\n",
            "\n",
            "  warnings.warn(some_fits_failed_message, FitFailedWarning)\n",
            "/usr/local/lib/python3.7/dist-packages/sklearn/model_selection/_search.py:972: UserWarning: One or more of the test scores are non-finite: [-9.76318448         nan]\n",
            "  category=UserWarning,\n"
          ]
        }
      ],
      "source": [
        "tree_1 = GridSearchCV(tree_rg, param_1, cv=4, scoring='neg_mean_squared_error')\n",
        "tree_1.fit(X_train_prepared, y_train)\n",
        "score_1 = tree_1.cv_results_['mean_test_score']"
      ]
    },
    {
      "cell_type": "code",
      "execution_count": null,
      "metadata": {
        "colab": {
          "base_uri": "https://localhost:8080/"
        },
        "id": "tECkkR2EPL6k",
        "outputId": "7ca4f4f0-78d5-458e-86dc-6f7078bc9109"
      },
      "outputs": [
        {
          "output_type": "stream",
          "name": "stdout",
          "text": [
            "{'criterion': ['squared_error', 'poisson']}\n",
            "[-9.76318448         nan]\n"
          ]
        }
      ],
      "source": [
        "print(param_1)\n",
        "print(score_1)"
      ]
    },
    {
      "cell_type": "code",
      "execution_count": null,
      "metadata": {
        "id": "20n9kpGDWiSm"
      },
      "outputs": [],
      "source": [
        "tree_2 = GridSearchCV(tree_rg, param_2, cv=4, scoring='neg_mean_squared_error')\n",
        "tree_2.fit(X_train_prepared, y_train)\n",
        "score_2 = tree_2.cv_results_['mean_test_score']"
      ]
    },
    {
      "cell_type": "code",
      "execution_count": null,
      "metadata": {
        "colab": {
          "base_uri": "https://localhost:8080/"
        },
        "id": "pHOdiFgmZ-rD",
        "outputId": "24f9d448-bd3c-47a7-ed91-494f0aeb9126"
      },
      "outputs": [
        {
          "output_type": "stream",
          "name": "stdout",
          "text": [
            "{'max_depth': [None, 100, 50, 10]}\n",
            "[-9.77339682 -9.77339682 -9.61663195 -5.38794306]\n"
          ]
        }
      ],
      "source": [
        "print(param_2)\n",
        "print(score_2)"
      ]
    },
    {
      "cell_type": "code",
      "execution_count": null,
      "metadata": {
        "id": "0-Cm7j-JZtfk"
      },
      "outputs": [],
      "source": [
        "tree_3 = GridSearchCV(tree_rg, param_3, cv=4, scoring='neg_mean_squared_error')\n",
        "tree_3.fit(X_train_prepared, y_train)\n",
        "score_3 = tree_3.cv_results_['mean_test_score']"
      ]
    },
    {
      "cell_type": "code",
      "execution_count": null,
      "metadata": {
        "colab": {
          "base_uri": "https://localhost:8080/"
        },
        "id": "hENhKOwnaMWr",
        "outputId": "9df03320-2024-4b12-e7e6-ceff783098d3"
      },
      "outputs": [
        {
          "output_type": "stream",
          "name": "stdout",
          "text": [
            "{'min_samples_split': [2, 100, 500, 1000]}\n",
            "[-9.77339682 -5.32765251 -4.92494192 -4.9763092 ]\n"
          ]
        }
      ],
      "source": [
        "print(param_3)\n",
        "print(score_3)"
      ]
    },
    {
      "cell_type": "code",
      "execution_count": null,
      "metadata": {
        "id": "2fCDzwpEZu7q"
      },
      "outputs": [],
      "source": [
        "tree_4 = GridSearchCV(tree_rg, param_4, cv=4, scoring='neg_mean_squared_error')\n",
        "tree_4.fit(X_train_prepared, y_train)\n",
        "score_4 = tree_4.cv_results_['mean_test_score']"
      ]
    },
    {
      "cell_type": "code",
      "execution_count": null,
      "metadata": {
        "colab": {
          "base_uri": "https://localhost:8080/"
        },
        "id": "2_U6mi9NaPgT",
        "outputId": "fb02a1cb-9175-4ef8-cd58-ce3edc18ae2a"
      },
      "outputs": [
        {
          "output_type": "stream",
          "name": "stdout",
          "text": [
            "{'min_samples_leaf': [1, 10, 50, 100, 500]}\n",
            "[-9.77339682 -5.82961265 -5.00893704 -4.91045277 -5.03726477]\n"
          ]
        }
      ],
      "source": [
        "print(param_4)\n",
        "print(score_4)"
      ]
    },
    {
      "cell_type": "code",
      "execution_count": null,
      "metadata": {
        "id": "iEiTOQVXZ5aK"
      },
      "outputs": [],
      "source": [
        "tree_5 = GridSearchCV(tree_rg, param_5, cv=4, scoring='neg_mean_squared_error')\n",
        "tree_5.fit(X_train_prepared, y_train)\n",
        "score_5 = tree_5.cv_results_['mean_test_score']"
      ]
    },
    {
      "cell_type": "code",
      "execution_count": null,
      "metadata": {
        "colab": {
          "base_uri": "https://localhost:8080/"
        },
        "id": "ONU2yC1kaTsE",
        "outputId": "c55f58d4-3710-4234-a5c5-cf5648e15152"
      },
      "outputs": [
        {
          "output_type": "stream",
          "name": "stdout",
          "text": [
            "{'max_leaf_nodes': [None, 100, 50, 10, 5, 2]}\n",
            "[-9.77339682 -5.25392684 -5.36523318 -5.73178569 -5.76333955 -5.80788125]\n"
          ]
        }
      ],
      "source": [
        "print(param_5)\n",
        "print(score_5)"
      ]
    },
    {
      "cell_type": "markdown",
      "metadata": {
        "id": "HIYWr1D4X9MA"
      },
      "source": [
        "#### Decision Tree Tuning - All parameters"
      ]
    },
    {
      "cell_type": "code",
      "execution_count": null,
      "metadata": {
        "id": "7d415fX0XkkL"
      },
      "outputs": [],
      "source": [
        "hyperparamters_2 = {'max_depth': randint(5,50),\n",
        "                    'min_samples_split': randint(100,1000),\n",
        "                    'min_samples_leaf': randint(50,500),\n",
        "                    'max_leaf_nodes': randint(10,100)}"
      ]
    },
    {
      "cell_type": "code",
      "execution_count": null,
      "metadata": {
        "id": "UP41o_5JXZXU",
        "colab": {
          "base_uri": "https://localhost:8080/"
        },
        "outputId": "16da80e1-3064-4989-ee44-5c3acbb20703"
      },
      "outputs": [
        {
          "output_type": "execute_result",
          "data": {
            "text/plain": [
              "RandomizedSearchCV(cv=4, estimator=DecisionTreeRegressor(random_state=42),\n",
              "                   param_distributions={'max_depth': <scipy.stats._distn_infrastructure.rv_frozen object at 0x7f749d6740d0>,\n",
              "                                        'max_leaf_nodes': <scipy.stats._distn_infrastructure.rv_frozen object at 0x7f749d685150>,\n",
              "                                        'min_samples_leaf': <scipy.stats._distn_infrastructure.rv_frozen object at 0x7f749d6855d0>,\n",
              "                                        'min_samples_split': <scipy.stats._distn_infrastructure.rv_frozen object at 0x7f749d674b90>},\n",
              "                   scoring='neg_mean_squared_error')"
            ]
          },
          "metadata": {},
          "execution_count": 31
        }
      ],
      "source": [
        "tree_rg_rand = RandomizedSearchCV(tree_rg, hyperparamters_2, cv=4, scoring='neg_mean_squared_error')\n",
        "tree_rg_rand.fit(X_train_prepared, y_train)"
      ]
    },
    {
      "cell_type": "code",
      "execution_count": null,
      "metadata": {
        "colab": {
          "base_uri": "https://localhost:8080/"
        },
        "id": "utOFudIRdjQW",
        "outputId": "4ef39cfe-8597-411e-9645-51433b17e117"
      },
      "outputs": [
        {
          "output_type": "stream",
          "name": "stdout",
          "text": [
            "{'max_depth': 41, 'max_leaf_nodes': 90, 'min_samples_leaf': 118, 'min_samples_split': 917}\n",
            "-5.287827624856116\n"
          ]
        }
      ],
      "source": [
        "print(tree_rg_rand.best_params_)\n",
        "print(tree_rg_rand.best_score_)"
      ]
    },
    {
      "cell_type": "code",
      "source": [
        "final_tree_rg = tree_rg_rand.best_estimator_"
      ],
      "metadata": {
        "id": "l5G3407woMVL"
      },
      "execution_count": null,
      "outputs": []
    },
    {
      "cell_type": "code",
      "source": [
        "get_top_features(final_tree_rg,40)"
      ],
      "metadata": {
        "colab": {
          "base_uri": "https://localhost:8080/"
        },
        "id": "gtKEfCPUkuGA",
        "outputId": "3acd05fd-92ba-46be-8952-b1cff7ebe5c8"
      },
      "execution_count": null,
      "outputs": [
        {
          "output_type": "execute_result",
          "data": {
            "text/plain": [
              "[('x0_6AM-10AM', 0.22403327269114473),\n",
              " ('POI_distance', 0.19147218806713792),\n",
              " ('capacity', 0.1048572306492542),\n",
              " ('x0_2PM-6PM', 0.058055625979797465),\n",
              " ('x1_Queen', 0.05798088208631442),\n",
              " ('Is_Weekend', 0.05749935936864228),\n",
              " ('x1_St Patrick', 0.048389946711610586),\n",
              " ('x1_St Andrew', 0.03676101732362192),\n",
              " ('x0_10PM-2AM', 0.030715148575596384),\n",
              " ('x1_Dundas', 0.02977448681702831),\n",
              " (\"x1_Queen's Park\", 0.02934843768901777),\n",
              " ('x1_Sherbourne', 0.022297027100466153),\n",
              " ('x0_6PM-10PM', 0.019440936349516522),\n",
              " ('x1_Wellesley', 0.01754830542978994),\n",
              " ('x1_Union Station', 0.01675114199915192),\n",
              " ('x0_10AM-2PM', 0.014635865870426527),\n",
              " ('x1_King', 0.009186263679933688),\n",
              " ('x1_Osgoode', 0.008204211340984525),\n",
              " ('Lockdown_Stay_at_Home', 0.008061286821555259),\n",
              " ('x1_Museum Station', 0.004337411453704768),\n",
              " ('x1_Bay', 0.0037611341280126293),\n",
              " ('x1_Dufferin', 0.003534582334335173),\n",
              " ('x1_Bloor-Yonge', 0.0033542375329568747),\n",
              " ('Temp (°C)', 0.0),\n",
              " ('Precip. Amount (mm)', 0.0),\n",
              " ('Wind Spd (km/h)', 0.0),\n",
              " ('Wind Dir (10s deg)', 0.0),\n",
              " ('Visibility (km)', 0.0),\n",
              " ('Holiday', 0.0),\n",
              " ('Active_TO', 0.0),\n",
              " ('x0_2AM-6AM', 0.0),\n",
              " ('x1_Bathurst', 0.0),\n",
              " ('x1_Broadview', 0.0),\n",
              " ('x1_Castle Frank', 0.0),\n",
              " ('x1_Chester', 0.0),\n",
              " ('x1_Christie', 0.0),\n",
              " ('x1_College Station', 0.0),\n",
              " ('x1_Coxwell', 0.0),\n",
              " ('x1_Danforth', 0.0),\n",
              " ('x1_Davisville', 0.0)]"
            ]
          },
          "metadata": {},
          "execution_count": 36
        }
      ]
    },
    {
      "cell_type": "markdown",
      "source": [
        "### Testing with final decision tree model"
      ],
      "metadata": {
        "id": "EZVQsK8_Hjbt"
      }
    },
    {
      "cell_type": "code",
      "source": [
        "X_test = df_test[[col for col in df.columns if col not in cols_to_drop+target]]\n",
        "y_test = df_test[target]"
      ],
      "metadata": {
        "id": "lYakOd0jHgfQ"
      },
      "execution_count": null,
      "outputs": []
    },
    {
      "cell_type": "code",
      "execution_count": null,
      "metadata": {
        "id": "1swd0vXZ2fip"
      },
      "outputs": [],
      "source": [
        "\n",
        "X_test_prepared=full_pipeline.transform(X_test)\n",
        "final_tree_rg = tree_rg_rand.best_estimator_\n",
        "y_test_pred = final_tree_rg.predict(X_test_prepared)"
      ]
    },
    {
      "cell_type": "code",
      "source": [
        "print(np.sqrt(mean_squared_error(y_test, y_test_pred)))"
      ],
      "metadata": {
        "colab": {
          "base_uri": "https://localhost:8080/"
        },
        "id": "vTQHX21YKo-c",
        "outputId": "d25a409e-bdf7-4b27-da44-6e7248186ae5"
      },
      "execution_count": null,
      "outputs": [
        {
          "output_type": "stream",
          "name": "stdout",
          "text": [
            "2.2978413236775963\n"
          ]
        }
      ]
    },
    {
      "cell_type": "code",
      "source": [
        "print(mean_squared_error(y_test, y_test_pred))"
      ],
      "metadata": {
        "id": "_t7dwZKwK94u",
        "outputId": "d7164795-9f7b-41fb-cb09-22edd5744776",
        "colab": {
          "base_uri": "https://localhost:8080/"
        }
      },
      "execution_count": null,
      "outputs": [
        {
          "output_type": "stream",
          "name": "stdout",
          "text": [
            "5.280074748800407\n"
          ]
        }
      ]
    }
  ]
}